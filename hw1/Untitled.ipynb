{
 "cells": [
  {
   "cell_type": "code",
   "execution_count": 1,
   "metadata": {},
   "outputs": [
    {
     "data": {
      "text/plain": [
       "True"
      ]
     },
     "execution_count": 1,
     "metadata": {},
     "output_type": "execute_result"
    }
   ],
   "source": [
    "import numpy as np\n",
    "import os\n",
    "import random\n",
    "import glob\n",
    "import matplotlib.pyplot as plt\n",
    "from copy import copy\n",
    "import tensorflow as tf\n",
    "from tensorflow.keras import layers\n",
    "from scipy import misc\n",
    "from sklearn.utils import shuffle\n",
    "from sklearn.metrics import accuracy_score\n",
    "tf.executing_eagerly()"
   ]
  },
  {
   "cell_type": "code",
   "execution_count": 2,
   "metadata": {},
   "outputs": [],
   "source": [
    "def get_images(paths, labels, nb_samples=None, shuffle=True):\n",
    "    \"\"\"\n",
    "    Takes a set of character folders and labels and returns paths to image files\n",
    "    paired with labels.\n",
    "    Args:\n",
    "        paths: A list of character folders\n",
    "        labels: List or numpy array of same length as paths\n",
    "        nb_samples: Number of images to retrieve per character\n",
    "    Returns:\n",
    "        List of (label, image_path) tuples\n",
    "    \"\"\"\n",
    "    if nb_samples is not None:\n",
    "        sampler = lambda x: random.sample(x, nb_samples)\n",
    "    else:\n",
    "        sampler = lambda x: x\n",
    "    images_labels = [(i, os.path.join(path, image))\n",
    "                     for i, path in zip(labels, paths)\n",
    "                     for image in sampler(os.listdir(path))]\n",
    "    if shuffle:\n",
    "        random.shuffle(images_labels)\n",
    "    return images_labels"
   ]
  },
  {
   "cell_type": "code",
   "execution_count": 3,
   "metadata": {},
   "outputs": [],
   "source": [
    "def image_file_to_array(filename, dim_input):\n",
    "    \"\"\"\n",
    "    Takes an image path and returns numpy array\n",
    "    Args:\n",
    "        filename: Image filename\n",
    "        dim_input: Flattened shape of image\n",
    "    Returns:\n",
    "        1 channel image\n",
    "    \"\"\"\n",
    "    image = misc.imread(filename)\n",
    "    image = image.reshape([dim_input])\n",
    "    image = image.astype(np.float32) / 255.0\n",
    "    image = 1.0 - image\n",
    "    return image"
   ]
  },
  {
   "cell_type": "code",
   "execution_count": 4,
   "metadata": {},
   "outputs": [],
   "source": [
    "def plot_results(logs, NUM_CLASSES, NUM_SAMPLES):\n",
    "    \n",
    "    fig, ax = plt.subplots()\n",
    "    steps = [x[0] for x in logs]\n",
    "    train_loss = [x[1] for x in logs]\n",
    "    test_loss = [x[2] for x in logs]\n",
    "    acc = [x[3] for x in logs]\n",
    "    ax.plot(steps, train_loss, label = 'train loss')\n",
    "    ax.plot(steps, test_loss, label = 'test_loss')\n",
    "    ax.plot(steps, acc, label = 'accuracy')\n",
    "    ax.set(xlabel='Iterations', \n",
    "           title='MANN: {}-way classification, {}-shot'.format(NUM_CLASSES, NUM_SAMPLES))\n",
    "    ax.grid()\n",
    "    ax.legend()\n",
    "    plt.savefig(\"{}-{}.png\".format(NUM_CLASSES, NUM_SAMPLES))"
   ]
  },
  {
   "cell_type": "code",
   "execution_count": 5,
   "metadata": {},
   "outputs": [],
   "source": [
    "class DataGenerator(object):\n",
    "    \n",
    "    def __init__(self, num_classes, num_samples_per_class):\n",
    "        \"\"\"\n",
    "        Args:\n",
    "            num_classes: Number of classes for classification (K-way)\n",
    "            num_samples_per_class: num samples to generate per class in one batch\n",
    "            batch_size: size of meta batch size (e.g. number of functions)\n",
    "        \"\"\"\n",
    "        self.num_samples_per_class = num_samples_per_class\n",
    "        self.num_classes = num_classes\n",
    "        \n",
    "        data_folder = './omniglot_resized'\n",
    "        \n",
    "        self.img_size = (28, 28)\n",
    "        self.dim_input = np.prod(self.img_size)\n",
    "        self.dim_output = self.num_classes\n",
    "        \n",
    "        character_folders = [os.path.join(data_folder, family, character)\n",
    "                             for family in os.listdir(data_folder)\n",
    "                             if os.path.isdir(os.path.join(data_folder, family))\n",
    "                             for character in os.listdir(os.path.join(data_folder, family))\n",
    "                             if os.path.isdir(os.path.join(data_folder, family, character))]\n",
    "        \n",
    "        random.seed(1)\n",
    "        random.shuffle(character_folders)\n",
    "        \n",
    "        # using roughly 20% of data for meta-testing (1200:423)\n",
    "        num_train = 1200\n",
    "        \n",
    "        self.metatrain_character_folders = character_folders[:num_train]\n",
    "        self.metatest_character_folders = character_folders[num_train:]\n",
    "        \n",
    "    def sample_batch(self, batch_type, batch_size):\n",
    "        \"\"\"\n",
    "        Samples a batch for training or testing\n",
    "        Args:\n",
    "            batch_type: train/test\n",
    "        Returns:\n",
    "            A a tuple of (1) Image batch and (2) Label batch where\n",
    "            image batch has shape [B, K, N, 784] and label batch has shape [B, K, N, N]\n",
    "            where B is batch size, K is number of samples per class, N is number of classes\n",
    "        \"\"\"\n",
    "        if batch_type == \"train\":\n",
    "            folders = self.metatrain_character_folders\n",
    "        elif batch_type == \"test\":\n",
    "            folders = self.metatest_character_folders\n",
    "            \n",
    "        B, K, N = batch_size, self.num_samples_per_class, self.num_classes\n",
    "        \n",
    "        all_image_batches = np.zeros((B, K, N, self.dim_input))\n",
    "        all_label_batches = np.zeros((B, K, N, N))\n",
    "\n",
    "        for batch_idx in range(B):\n",
    "            sampled_classes = np.random.choice(folders, N, replace = False)\n",
    "            one_hot_labels = np.eye(N)\n",
    "            assert K == self.num_samples_per_class\n",
    "            images_and_labels = get_images(sampled_classes, one_hot_labels, nb_samples=K, shuffle=False)\n",
    "            \n",
    "            images_train = []\n",
    "            images_test = []\n",
    "            labels_train = []\n",
    "            labels_test = []\n",
    "            for i, (label, image_path) in enumerate(images_and_labels):\n",
    "                if i % K == 0:\n",
    "                    images_test.append(image_path)\n",
    "                    labels_test.append(label)\n",
    "                else:\n",
    "                    images_train.append(image_path)\n",
    "                    labels_train.append(label)\n",
    "\n",
    "            images_train, labels_train = shuffle(images_train, labels_train)\n",
    "            images_test, labels_test = shuffle(images_test, labels_test)\n",
    " \n",
    "            \n",
    "            images_train = [image_file_to_array(x, self.dim_input) for x in images_train]\n",
    "            images_test = [image_file_to_array(x, self.dim_input) for x in images_test]\n",
    "            \n",
    "            image_batches_train = np.array(images_train)\n",
    "            label_batches_train = np.array(labels_train)\n",
    "            image_batches_test = np.array(images_test)\n",
    "            label_batches_test = np.array(labels_test)\n",
    "            \n",
    "            image_batches = np.concatenate([image_batches_train, image_batches_test], axis = 0).reshape(K, N, self.dim_input)\n",
    "            label_batches = np.concatenate([label_batches_train, label_batches_test], axis = 0).reshape(K, N, N)\n",
    "            \n",
    "            all_image_batches[batch_idx, :, :, :] = image_batches\n",
    "            all_label_batches[batch_idx, :, :, :] = label_batches\n",
    "                \n",
    "        return all_image_batches, all_label_batches"
   ]
  },
  {
   "cell_type": "code",
   "execution_count": 6,
   "metadata": {},
   "outputs": [
    {
     "name": "stderr",
     "output_type": "stream",
     "text": [
      "/Users/damian/Code/stanford_ml_mt/sample_env/lib/python3.6/site-packages/ipykernel_launcher.py:10: DeprecationWarning: `imread` is deprecated!\n",
      "`imread` is deprecated in SciPy 1.0.0, and will be removed in 1.2.0.\n",
      "Use ``imageio.imread`` instead.\n",
      "  # Remove the CWD from sys.path while we load stuff.\n"
     ]
    }
   ],
   "source": [
    "num_classes = 4\n",
    "num_samples_per_class = 5\n",
    "batch_size = 16\n",
    "\n",
    "generator = DataGenerator(num_classes, num_samples_per_class)\n",
    "batch_images, batch_labels = generator.sample_batch(\"train\", batch_size)"
   ]
  },
  {
   "cell_type": "code",
   "execution_count": 7,
   "metadata": {},
   "outputs": [
    {
     "name": "stdout",
     "output_type": "stream",
     "text": [
      "[1. 0. 0. 0.]\n"
     ]
    },
    {
     "data": {
      "image/png": "[encoded data removed]",
      "text/plain": [
       "<Figure size 432x288 with 1 Axes>"
      ]
     },
     "metadata": {
      "needs_background": "light"
     },
     "output_type": "display_data"
    },
    {
     "name": "stdout",
     "output_type": "stream",
     "text": [
      "[0. 0. 0. 1.]\n"
     ]
    },
    {
     "data": {
      "image/png": "[encoded data removed]",
      "text/plain": [
       "<Figure size 432x288 with 1 Axes>"
      ]
     },
     "metadata": {
      "needs_background": "light"
     },
     "output_type": "display_data"
    },
    {
     "name": "stdout",
     "output_type": "stream",
     "text": [
      "[0. 0. 1. 0.]\n"
     ]
    },
    {
     "data": {
      "image/png": "[encoded data removed]",
      "text/plain": [
       "<Figure size 432x288 with 1 Axes>"
      ]
     },
     "metadata": {
      "needs_background": "light"
     },
     "output_type": "display_data"
    },
    {
     "name": "stdout",
     "output_type": "stream",
     "text": [
      "[0. 1. 0. 0.]\n"
     ]
    },
    {
     "data": {
      "image/png": "[encoded data removed]",
      "text/plain": [
       "<Figure size 432x288 with 1 Axes>"
      ]
     },
     "metadata": {
      "needs_background": "light"
     },
     "output_type": "display_data"
    }
   ],
   "source": [
    "batch_idx = 15\n",
    "image_index = -1\n",
    "sample_images, sample_labels = batch_images[batch_idx, image_index, :, :], batch_labels[batch_idx, image_index, :, :]\n",
    "for i, j in zip(sample_images, sample_labels):\n",
    "    print(j)\n",
    "    plt.imshow(np.uint8(i.reshape(28, 28)))\n",
    "    plt.show()"
   ]
  },
  {
   "cell_type": "code",
   "execution_count": 8,
   "metadata": {},
   "outputs": [],
   "source": [
    "class MANN(tf.keras.Model):\n",
    "    def __init__(self, num_classes, samples_per_class, lstm_size, conv = False):\n",
    "        super(MANN, self).__init__()\n",
    "        self.num_classes = num_classes\n",
    "        self.samples_per_class = samples_per_class\n",
    "        self.conv = conv\n",
    "        \n",
    "        self.conv_1 = tf.keras.layers.Conv2D(32, (3,3), activation='relu', kernel_initializer = 'he_uniform')\n",
    "        self.dense_1 = tf.keras.layers.Dense(100)\n",
    "        self.layer_pool = tf.keras.layers.MaxPooling2D((2,2))\n",
    "        self.layer_flatten = tf.keras.layers.Flatten()\n",
    "        \n",
    "        self.lstm_1 = tf.keras.layers.LSTM(lstm_size, return_sequences = True)\n",
    "        self.lstm_2 = tf.keras.layers.LSTM(num_classes, return_sequences = True)\n",
    "        \n",
    "    def call(self, input_images, input_labels):\n",
    "        \"\"\"\n",
    "        MANN\n",
    "        Args:\n",
    "            input_images: [B, K+1, N, 784] flattened images\n",
    "            labels: [B, K+1, N, N] ground truth labels\n",
    "        Returns:\n",
    "            [B, K+1, N, N] predictions\n",
    "        \"\"\"\n",
    "        B, Kplusone, N, D = input_images.shape\n",
    "        K = Kplusone - 1\n",
    "        input_labels = tf.dtypes.cast(input_labels, tf.float32)\n",
    "        input_labels = tf.concat([input_labels[:, :-1],\n",
    "                                  tf.zeros_like(input_labels[:, -1:])], axis = 1)        \n",
    "        if self.conv:\n",
    "            image_dims = 28\n",
    "            input_images = tf.reshape(input_images, (B * Kplusone * N, image_dims, image_dims, 1))\n",
    "            input_images = self.dense_1(self.layer_flatten(self.layer_pool(self.conv_1(input_images))))\n",
    "            input_images = tf.reshape(input_images, (B, Kplusone, N, -1))\n",
    "            x = tf.concat([input_images, input_labels], axis = 3)\n",
    "            x = tf.reshape(x, (B, Kplusone * N, -1))\n",
    "   \n",
    "        else:\n",
    "            x = tf.concat([input_images, input_labels], axis = 3)\n",
    "            x = tf.reshape(x, (B, Kplusone * N, D + N))\n",
    "            \n",
    "        out = self.lstm_2(self.lstm_1(x))\n",
    "        out = tf.reshape(out, (B, Kplusone, N, N))\n",
    "\n",
    "        return out"
   ]
  },
  {
   "cell_type": "code",
   "execution_count": 9,
   "metadata": {},
   "outputs": [],
   "source": [
    "def loss_function(preds, labels):\n",
    "    \"\"\"\n",
    "    Computes MANN loss\n",
    "    Args:\n",
    "        preds: [B, K+1, N, N] network output\n",
    "        labels: [B, K+1, N, N] labels\n",
    "    Returns:\n",
    "        scalar loss\n",
    "    \"\"\"\n",
    "    last_y_preds = preds[:, -1:]\n",
    "    last_y_labels = labels[:, -1:]\n",
    "    loss = tf.keras.losses.categorical_crossentropy(last_y_labels, last_y_preds, from_logits=True)\n",
    "    loss = tf.reduce_mean(loss)\n",
    "    \n",
    "    return loss"
   ]
  },
  {
   "cell_type": "code",
   "execution_count": 10,
   "metadata": {},
   "outputs": [],
   "source": [
    "@tf.function\n",
    "def train_step(inputs, labels, model, loss_object, optimizer):\n",
    "    with tf.GradientTape() as tape:\n",
    "        predictions = model(inputs, labels, training=True)\n",
    "        loss = loss_object(predictions, labels)\n",
    "    gradients = tape.gradient(loss, model.trainable_variables)\n",
    "    optimizer.apply_gradients(zip(gradients, model.trainable_variables))\n",
    "    return loss\n",
    "    \n",
    "@tf.function\n",
    "def test_step(inputs, labels, model, loss_object):\n",
    "    predictions = model(inputs, labels, training=False)\n",
    "    loss = loss_object(predictions, labels)\n",
    "    return loss, predictions\n"
   ]
  },
  {
   "cell_type": "code",
   "execution_count": 11,
   "metadata": {},
   "outputs": [],
   "source": [
    "def train_MANN(NUM_CLASSES = 5, NUM_SAMPLES = 1, META_BATCH_SIZE = 64, ITERATIONS = 50000, LSTM_SIZE = 128, CONV = False):\n",
    "    \"\"\"\n",
    "    NUM_CLASSES        'number of classes used in classification (e.g. 5-way classification)\n",
    "    NUM_SAMPLES        'number of examples used for inner gradient update (K for K-shot learning).'\n",
    "    META_BATCH_SIZE    'number of N-way classification tasks per batch'\n",
    "    \"\"\"\n",
    "    \n",
    "    logs = []\n",
    "\n",
    "    data_generator = DataGenerator(NUM_CLASSES, NUM_SAMPLES + 1)\n",
    "    \n",
    "    o = MANN(NUM_CLASSES, NUM_SAMPLES + 1, LSTM_SIZE, CONV)\n",
    "    loss = loss_function\n",
    "    optimizer = tf.keras.optimizers.Adam(0.001)\n",
    "\n",
    "    for step in range(ITERATIONS):\n",
    "        images_batch, labels_batch = data_generator.sample_batch('train', META_BATCH_SIZE)\n",
    "        train_loss = train_step(images_batch, labels_batch, o, loss, optimizer)\n",
    "        if step % 1000 == 0:\n",
    "            print(\"*\" * 5 + \"Iteration no. {}\".format(step) + \"*\" * 5)\n",
    "\n",
    "            images_batch_test, labels_batch_test = data_generator.sample_batch('test', 300)\n",
    "            test_loss, preds = test_step(images_batch_test, labels_batch_test, o, loss)\n",
    "            preds = preds.numpy().reshape(-1, NUM_SAMPLES + 1, NUM_CLASSES, NUM_CLASSES)\n",
    "            preds = preds[:, -1, :, :].argmax(2)\n",
    "            labels_batch_test = labels_batch_test[:, -1, :, :].argmax(2)\n",
    "\n",
    "            print(\"Train Loss: {} Test Loss: {}\".format(train_loss.numpy(), test_loss.numpy()))\n",
    "            accuracy = (1.0 * (preds == labels_batch_test)).mean()\n",
    "            print(\"Test Accuracy\", accuracy)\n",
    "\n",
    "            logs.append((step, train_loss, test_loss, accuracy))\n",
    "\n",
    "    plot_results(logs, NUM_CLASSES, NUM_SAMPLES)"
   ]
  },
  {
   "cell_type": "code",
   "execution_count": null,
   "metadata": {
    "scrolled": true
   },
   "outputs": [
    {
     "name": "stdout",
     "output_type": "stream",
     "text": [
      "WARNING:tensorflow:Layer mann is casting an input tensor from dtype float64 to the layer's dtype of float32, which is new behavior in TensorFlow 2.  The layer has dtype float32 because it's dtype defaults to floatx.\n",
      "\n",
      "If you intended to run this layer in float32, you can safely ignore this warning. If in doubt, this warning is likely only an issue if you are porting a TensorFlow 1.X model to TensorFlow 2.\n",
      "\n",
      "To change all layers to have dtype float64 by default, call `tf.keras.backend.set_floatx('float64')`. To change just this layer, pass dtype='float64' to the layer constructor. If you are the author of this layer, you can disable autocasting by passing autocast=False to the base Layer constructor.\n",
      "\n"
     ]
    },
    {
     "name": "stderr",
     "output_type": "stream",
     "text": [
      "/Users/damian/Code/stanford_ml_mt/sample_env/lib/python3.6/site-packages/ipykernel_launcher.py:10: DeprecationWarning: `imread` is deprecated!\n",
      "`imread` is deprecated in SciPy 1.0.0, and will be removed in 1.2.0.\n",
      "Use ``imageio.imread`` instead.\n",
      "  # Remove the CWD from sys.path while we load stuff.\n"
     ]
    },
    {
     "name": "stdout",
     "output_type": "stream",
     "text": [
      "*****Iteration no. 0*****\n",
      "Train Loss: 0.6941792964935303 Test Loss: 0.6959450244903564\n",
      "Test Accuracy 0.5\n",
      "*****Iteration no. 1000*****\n",
      "Train Loss: 0.6293325424194336 Test Loss: 0.5899530649185181\n",
      "Test Accuracy 0.6033333333333334\n",
      "*****Iteration no. 2000*****\n",
      "Train Loss: 0.45721012353897095 Test Loss: 0.5178144574165344\n",
      "Test Accuracy 0.6866666666666666\n",
      "*****Iteration no. 3000*****\n",
      "Train Loss: 0.40829434990882874 Test Loss: 0.43099862337112427\n",
      "Test Accuracy 0.85\n",
      "*****Iteration no. 4000*****\n",
      "Train Loss: 0.381076842546463 Test Loss: 0.3954070210456848\n",
      "Test Accuracy 0.8483333333333334\n",
      "*****Iteration no. 5000*****\n",
      "Train Loss: 0.3802157938480377 Test Loss: 0.336791068315506\n",
      "Test Accuracy 0.8916666666666667\n",
      "*****Iteration no. 6000*****\n",
      "Train Loss: 0.3617760241031647 Test Loss: 0.3291057050228119\n",
      "Test Accuracy 0.8983333333333333\n",
      "*****Iteration no. 7000*****\n",
      "Train Loss: 0.3642581105232239 Test Loss: 0.3533407151699066\n",
      "Test Accuracy 0.875\n",
      "*****Iteration no. 8000*****\n",
      "Train Loss: 0.265325129032135 Test Loss: 0.32841700315475464\n",
      "Test Accuracy 0.9\n",
      "*****Iteration no. 9000*****\n",
      "Train Loss: 0.3147777318954468 Test Loss: 0.3538263440132141\n",
      "Test Accuracy 0.89\n",
      "*****Iteration no. 10000*****\n",
      "Train Loss: 0.3872714042663574 Test Loss: 0.3009839951992035\n",
      "Test Accuracy 0.9183333333333333\n",
      "*****Iteration no. 11000*****\n",
      "Train Loss: 0.28241461515426636 Test Loss: 0.3270054757595062\n",
      "Test Accuracy 0.8983333333333333\n",
      "*****Iteration no. 12000*****\n",
      "Train Loss: 0.28690317273139954 Test Loss: 0.29317644238471985\n",
      "Test Accuracy 0.9283333333333333\n"
     ]
    }
   ],
   "source": [
    "# fix K vary N\n",
    "for NUM_CLASSES in [2,3,4]:\n",
    "    NUM_SAMPLES = 1\n",
    "    train_MANN(NUM_CLASSES, NUM_SAMPLES, CONV = False)"
   ]
  },
  {
   "cell_type": "code",
   "execution_count": null,
   "metadata": {},
   "outputs": [],
   "source": []
  },
  {
   "cell_type": "code",
   "execution_count": null,
   "metadata": {},
   "outputs": [],
   "source": []
  }
 ],
 "metadata": {
  "kernelspec": {
   "display_name": "sample_env",
   "language": "python",
   "name": "sample_env"
  },
  "language_info": {
   "codemirror_mode": {
    "name": "ipython",
    "version": 3
   },
   "file_extension": ".py",
   "mimetype": "text/x-python",
   "name": "python",
   "nbconvert_exporter": "python",
   "pygments_lexer": "ipython3",
   "version": "3.6.9"
  }
 },
 "nbformat": 4,
 "nbformat_minor": 4
}
