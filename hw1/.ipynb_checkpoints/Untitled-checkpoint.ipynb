{
 "cells": [
  {
   "cell_type": "code",
   "execution_count": 1,
   "metadata": {},
   "outputs": [
    {
     "name": "stdout",
     "output_type": "stream",
     "text": [
      "WARNING:tensorflow:From /Users/damian/Code/stanford_ml_mt/sample_env/lib/python3.6/site-packages/tensorflow/python/compat/v2_compat.py:96: disable_resource_variables (from tensorflow.python.ops.variable_scope) is deprecated and will be removed in a future version.\n",
      "Instructions for updating:\n",
      "non-resource variables are not supported in the long term\n"
     ]
    }
   ],
   "source": [
    "import numpy as np\n",
    "import os\n",
    "import random\n",
    "import glob\n",
    "import matplotlib.pyplot as plt\n",
    "import tensorflow.compat.v1 as tf\n",
    "tf.disable_v2_behavior()\n",
    "from tensorflow.keras import layers\n",
    "from scipy import misc\n",
    "from sklearn.utils import shuffle"
   ]
  },
  {
   "cell_type": "code",
   "execution_count": 2,
   "metadata": {},
   "outputs": [],
   "source": [
    "def get_images(paths, labels, nb_samples=None, shuffle=True):\n",
    "    \"\"\"\n",
    "    Takes a set of character folders and labels and returns paths to image files\n",
    "    paired with labels.\n",
    "    Args:\n",
    "        paths: A list of character folders\n",
    "        labels: List or numpy array of same length as paths\n",
    "        nb_samples: Number of images to retrieve per character\n",
    "    Returns:\n",
    "        List of (label, image_path) tuples\n",
    "    \"\"\"\n",
    "    if nb_samples is not None:\n",
    "        sampler = lambda x: random.sample(x, nb_samples)\n",
    "    else:\n",
    "        sampler = lambda x: x\n",
    "    images_labels = [(i, os.path.join(path, image))\n",
    "                     for i, path in zip(labels, paths)\n",
    "                     for image in sampler(os.listdir(path))]\n",
    "    if shuffle:\n",
    "        random.shuffle(images_labels)\n",
    "    return images_labels"
   ]
  },
  {
   "cell_type": "code",
   "execution_count": 3,
   "metadata": {},
   "outputs": [],
   "source": [
    "def image_file_to_array(filename, dim_input):\n",
    "    \"\"\"\n",
    "    Takes an image path and returns numpy array\n",
    "    Args:\n",
    "        filename: Image filename\n",
    "        dim_input: Flattened shape of image\n",
    "    Returns:\n",
    "        1 channel image\n",
    "    \"\"\"\n",
    "    image = misc.imread(filename)\n",
    "    image = image.reshape([dim_input])\n",
    "    image = image.astype(np.float32) / 255.0\n",
    "    image = 1.0 - image\n",
    "    return image"
   ]
  },
  {
   "cell_type": "code",
   "execution_count": 4,
   "metadata": {},
   "outputs": [],
   "source": [
    "def plot_results(logs, NUM_CLASSES, NUM_SAMPLES):\n",
    "    \n",
    "    fig, ax = plt.subplots()\n",
    "    steps = [x[0] for x in logs]\n",
    "    train_loss = [x[1] for x in logs]\n",
    "    test_loss = [x[2] for x in logs]\n",
    "    acc = [x[3] for x in logs]\n",
    "    ax.plot(steps, train_loss, label = 'train loss')\n",
    "    ax.plot(steps, test_loss, label = 'test_loss')\n",
    "    ax.plot(steps, acc, label = 'accuracy')\n",
    "    ax.set(xlabel='Iterations', \n",
    "           title='MANN: {}-way classification, {}-shot'.format(NUM_CLASSES, NUM_SAMPLES))\n",
    "    ax.grid()\n",
    "    ax.legend()\n",
    "    plt.show()"
   ]
  },
  {
   "cell_type": "code",
   "execution_count": 5,
   "metadata": {},
   "outputs": [],
   "source": [
    "class DataGenerator(object):\n",
    "    \n",
    "    def __init__(self, num_classes, num_samples_per_class):\n",
    "        \"\"\"\n",
    "        Args:\n",
    "            num_classes: Number of classes for classification (K-way)\n",
    "            num_samples_per_class: num samples to generate per class in one batch\n",
    "            batch_size: size of meta batch size (e.g. number of functions)\n",
    "        \"\"\"\n",
    "        self.num_samples_per_class = num_samples_per_class\n",
    "        self.num_classes = num_classes\n",
    "        \n",
    "        data_folder = './omniglot_resized'\n",
    "        \n",
    "        self.img_size = (28, 28)\n",
    "        self.dim_input = np.prod(self.img_size)\n",
    "        self.dim_output = self.num_classes\n",
    "        \n",
    "        character_folders = [os.path.join(data_folder, family, character)\n",
    "                             for family in os.listdir(data_folder)\n",
    "                             if os.path.isdir(os.path.join(data_folder, family))\n",
    "                             for character in os.listdir(os.path.join(data_folder, family))\n",
    "                             if os.path.isdir(os.path.join(data_folder, family, character))]\n",
    "        \n",
    "        random.seed(1)\n",
    "        random.shuffle(character_folders)\n",
    "        \n",
    "        # using roughly 20% of data for meta-testing (1200:423)\n",
    "        num_train = 1200\n",
    "        \n",
    "        self.metatrain_character_folders = character_folders[:num_train]\n",
    "        self.metatest_character_folders = character_folders[num_train:]\n",
    "        \n",
    "    def sample_batch(self, batch_type, batch_size):\n",
    "        \"\"\"\n",
    "        Samples a batch for training or testing\n",
    "        Args:\n",
    "            batch_type: train/test\n",
    "        Returns:\n",
    "            A a tuple of (1) Image batch and (2) Label batch where\n",
    "            image batch has shape [B, K, N, 784] and label batch has shape [B, K, N, N]\n",
    "            where B is batch size, K is number of samples per class, N is number of classes\n",
    "        \"\"\"\n",
    "        if batch_type == \"train\":\n",
    "            folders = self.metatrain_character_folders\n",
    "        elif batch_type == \"test\":\n",
    "            folders = self.metatest_character_folders\n",
    "            \n",
    "        B, K, N = batch_size, self.num_samples_per_class, self.num_classes\n",
    "        \n",
    "        all_image_batches = np.zeros((B, K, N, self.dim_input))\n",
    "        all_label_batches = np.zeros((B, K, N, N))\n",
    "\n",
    "        for batch_idx in range(B):\n",
    "            sampled_classes = np.random.choice(folders, N, replace = False)\n",
    "            one_hot_labels = np.eye(N)\n",
    "            images_and_labels = get_images(sampled_classes, one_hot_labels, nb_samples=K, shuffle=False)\n",
    "            \n",
    "            images_train = []\n",
    "            images_test = []\n",
    "            labels_train = []\n",
    "            labels_test = []\n",
    "            \n",
    "            for i, (label, image_path) in enumerate(images_and_labels):\n",
    "                if i % K == 0:\n",
    "                    images_test.append(image_path)\n",
    "                    labels_test.append(label)\n",
    "                else:\n",
    "                    images_train.append(image_path)\n",
    "                    labels_train.append(label)\n",
    "            \n",
    "            images_train, labels_train = shuffle(images_train, labels_train)\n",
    "            images_test, labels_test = shuffle(images_test, labels_test)\n",
    "            \n",
    "            #[print(x,y) for x,y in zip(images_train, labels_train)]\n",
    "            #print('--------')\n",
    "            #[print(x,y) for x,y in zip(images_test, labels_test)]\n",
    "            #print('*********')\n",
    "            \n",
    "            images_train = [image_file_to_array(x, self.dim_input) for x in images_train]\n",
    "            images_test = [image_file_to_array(x, self.dim_input) for x in images_test]\n",
    "            \n",
    "            image_batches_train = np.array(images_train)\n",
    "            label_batches_train = np.array(labels_train)\n",
    "            image_batches_test = np.array(images_test)\n",
    "            label_batches_test = np.array(labels_test)\n",
    "            \n",
    "            image_batches = np.concatenate([image_batches_train, image_batches_test], axis = 0).reshape(K, N, self.dim_input)\n",
    "            label_batches = np.concatenate([label_batches_train, label_batches_test], axis = 0).reshape(K, N, N)\n",
    "            \n",
    "            all_image_batches[batch_idx, :, :, :] = image_batches\n",
    "            all_label_batches[batch_idx, :, :, :] = label_batches\n",
    "                \n",
    "        return all_image_batches, all_label_batches"
   ]
  },
  {
   "cell_type": "code",
   "execution_count": 6,
   "metadata": {},
   "outputs": [
    {
     "name": "stderr",
     "output_type": "stream",
     "text": [
      "/Users/damian/Code/stanford_ml_mt/sample_env/lib/python3.6/site-packages/ipykernel_launcher.py:10: DeprecationWarning: `imread` is deprecated!\n",
      "`imread` is deprecated in SciPy 1.0.0, and will be removed in 1.2.0.\n",
      "Use ``imageio.imread`` instead.\n",
      "  # Remove the CWD from sys.path while we load stuff.\n"
     ]
    }
   ],
   "source": [
    "num_classes = 4\n",
    "num_samples_per_class = 5\n",
    "batch_size = 16\n",
    "\n",
    "generator = DataGenerator(num_classes, num_samples_per_class)\n",
    "batch_images, batch_labels = generator.sample_batch(\"train\", batch_size)"
   ]
  },
  {
   "cell_type": "code",
   "execution_count": 7,
   "metadata": {},
   "outputs": [
    {
     "name": "stdout",
     "output_type": "stream",
     "text": [
      "[1. 0. 0. 0.]\n"
     ]
    },
    {
     "data": {
      "image/png": "[encoded data removed]",
      "text/plain": [
       "<Figure size 432x288 with 1 Axes>"
      ]
     },
     "metadata": {
      "needs_background": "light"
     },
     "output_type": "display_data"
    },
    {
     "name": "stdout",
     "output_type": "stream",
     "text": [
      "[0. 0. 1. 0.]\n"
     ]
    },
    {
     "data": {
      "image/png": "[encoded data removed]",
      "text/plain": [
       "<Figure size 432x288 with 1 Axes>"
      ]
     },
     "metadata": {
      "needs_background": "light"
     },
     "output_type": "display_data"
    },
    {
     "name": "stdout",
     "output_type": "stream",
     "text": [
      "[0. 0. 0. 1.]\n"
     ]
    },
    {
     "data": {
      "image/png": "[encoded data removed]",
      "text/plain": [
       "<Figure size 432x288 with 1 Axes>"
      ]
     },
     "metadata": {
      "needs_background": "light"
     },
     "output_type": "display_data"
    },
    {
     "name": "stdout",
     "output_type": "stream",
     "text": [
      "[0. 0. 0. 1.]\n"
     ]
    },
    {
     "data": {
      "image/png": "[encoded data removed]",
      "text/plain": [
       "<Figure size 432x288 with 1 Axes>"
      ]
     },
     "metadata": {
      "needs_background": "light"
     },
     "output_type": "display_data"
    }
   ],
   "source": [
    "batch_idx = 0\n",
    "image_index = -3\n",
    "sample_images, sample_labels = batch_images[batch_idx, image_index, :, :], batch_labels[batch_idx, image_index, :, :]\n",
    "for i, j in zip(sample_images, sample_labels):\n",
    "    print(j)\n",
    "    plt.imshow(np.uint8(i.reshape(28, 28)))\n",
    "    plt.show()"
   ]
  },
  {
   "cell_type": "code",
   "execution_count": 8,
   "metadata": {},
   "outputs": [],
   "source": [
    "class MANN(tf.keras.Model):\n",
    "    def __init__(self, num_classes, samples_per_class, lstm_size):\n",
    "        super(MANN, self).__init__()\n",
    "        self.num_classes = num_classes\n",
    "        self.samples_per_class = samples_per_class\n",
    "        self.layer1 = tf.keras.layers.LSTM(lstm_size, return_sequences = True)\n",
    "        self.layer2 = tf.keras.layers.LSTM(num_classes, return_sequences = True)\n",
    "        \n",
    "    def call(self, input_images, input_labels):\n",
    "        \"\"\"\n",
    "        MANN\n",
    "        Args:\n",
    "            input_images: [B, K+1, N, 784] flattened images\n",
    "            labels: [B, K+1, N, N] ground truth labels\n",
    "        Returns:\n",
    "            [B, K+1, N, N] predictions\n",
    "        \"\"\"\n",
    "        B, Kplusone, N, D = input_images.shape\n",
    "        no_non_zero_labels = Kplusone*N-N\n",
    "\n",
    "        input_images = tf.reshape(input_images, (-1, Kplusone * N, D))\n",
    "        input_labels = tf.reshape(input_labels, (-1, Kplusone * N, N))\n",
    "        input_labels = tf.concat([input_labels[:, :no_non_zero_labels,:], \n",
    "                                  tf.zeros_like(input_labels[:,no_non_zero_labels:,:])], axis = 1)\n",
    "\n",
    "        x = tf.concat([input_images, input_labels], axis=2)\n",
    "        out = self.layer2(self.layer1(x))\n",
    "        out = tf.reshape(out, (-1, Kplusone, N, N))\n",
    "        \n",
    "        return out"
   ]
  },
  {
   "cell_type": "code",
   "execution_count": 9,
   "metadata": {},
   "outputs": [
    {
     "data": {
      "text/plain": [
       "\"\\nclass MANN_CONV(tf.keras.Model):\\n    def __init__(self, num_classes, samples_per_class, lstm_size):\\n        super(MANN, self).__init__()\\n        self.num_classes = num_classes\\n        self.samples_per_class = samples_per_class\\n\\n        self.layer1 = tf.keras.layers.Conv2D(32, (3,3), activation='relu', kernel_initializer = 'he_uniform',\\n                                             input_shape(28,28,1))\\n        \\n        self.layer11 = tf.keras.layers.MaxPooling2D((2,2))\\n        self.layer12 = tf.keras.layers.Flatten()\\n        self.layer2 = tf.keras.layers.LSTM(lstm_size, return_sequences = True)\\n        self.layer3 = tf.keras.layers.LSTM(num_classes, return_sequences = True)\\n        \\n    def call(self, input_images, input_labels):\\n        MANN\\n        Args:\\n            input_images: [B, K+1, N, 784] flattened images\\n            labels: [B, K+1, N, N] ground truth labels\\n        Returns:\\n            [B, K+1, N, N] predictions\\n\\n        B, Kplusone, N, D = input_images.shape\\n        X = 28\\n        input_images = tf.reshape(input_images, (B * Kplusone * N, D))\\n        input_images = tf.reshape(input_images, (-1, X, X, 1))\\n        x = self.layer12(self.layer11(self.layer1(input_images)))\\n        x = tf.reshape(x, (-1, Kplusone * N, D))\\n        \\n        \\n        \\n        no_non_zero_labels = Kplusone*N-N\\n        input_labels = tf.reshape(input_labels, (-1, Kplusone * N, N))\\n        input_labels = tf.concat([input_labels[:, :no_non_zero_labels,:], \\n                                  tf.zeros_like(input_labels[:,no_non_zero_labels:,:])], axis = 1)\\n\\n        x = tf.concat([x, input_labels], axis=2)\\n        out = self.layer3(self.layer2(x))\\n        out = tf.reshape(out, (-1, Kplusone, N, N))\\n        \\n        return out\\n\""
      ]
     },
     "execution_count": 9,
     "metadata": {},
     "output_type": "execute_result"
    }
   ],
   "source": [
    "\"\"\"\n",
    "class MANN_CONV(tf.keras.Model):\n",
    "    def __init__(self, num_classes, samples_per_class, lstm_size):\n",
    "        super(MANN, self).__init__()\n",
    "        self.num_classes = num_classes\n",
    "        self.samples_per_class = samples_per_class\n",
    "\n",
    "        self.layer1 = tf.keras.layers.Conv2D(32, (3,3), activation='relu', kernel_initializer = 'he_uniform',\n",
    "                                             input_shape(28,28,1))\n",
    "        \n",
    "        self.layer11 = tf.keras.layers.MaxPooling2D((2,2))\n",
    "        self.layer12 = tf.keras.layers.Flatten()\n",
    "        self.layer2 = tf.keras.layers.LSTM(lstm_size, return_sequences = True)\n",
    "        self.layer3 = tf.keras.layers.LSTM(num_classes, return_sequences = True)\n",
    "        \n",
    "    def call(self, input_images, input_labels):\n",
    "        MANN\n",
    "        Args:\n",
    "            input_images: [B, K+1, N, 784] flattened images\n",
    "            labels: [B, K+1, N, N] ground truth labels\n",
    "        Returns:\n",
    "            [B, K+1, N, N] predictions\n",
    "\n",
    "        B, Kplusone, N, D = input_images.shape\n",
    "        X = 28\n",
    "        input_images = tf.reshape(input_images, (B * Kplusone * N, D))\n",
    "        input_images = tf.reshape(input_images, (-1, X, X, 1))\n",
    "        x = self.layer12(self.layer11(self.layer1(input_images)))\n",
    "        x = tf.reshape(x, (-1, Kplusone * N, D))\n",
    "        \n",
    "        \n",
    "        \n",
    "        no_non_zero_labels = Kplusone*N-N\n",
    "        input_labels = tf.reshape(input_labels, (-1, Kplusone * N, N))\n",
    "        input_labels = tf.concat([input_labels[:, :no_non_zero_labels,:], \n",
    "                                  tf.zeros_like(input_labels[:,no_non_zero_labels:,:])], axis = 1)\n",
    "\n",
    "        x = tf.concat([x, input_labels], axis=2)\n",
    "        out = self.layer3(self.layer2(x))\n",
    "        out = tf.reshape(out, (-1, Kplusone, N, N))\n",
    "        \n",
    "        return out\n",
    "\"\"\""
   ]
  },
  {
   "cell_type": "code",
   "execution_count": 10,
   "metadata": {},
   "outputs": [],
   "source": [
    "def loss_function(preds, labels):\n",
    "    \"\"\"\n",
    "    Computes MANN loss\n",
    "    Args:\n",
    "        preds: [B, K+1, N, N] network output\n",
    "        labels: [B, K+1, N, N] labels\n",
    "    Returns:\n",
    "        scalar loss\n",
    "    \"\"\"\n",
    "    last_y_preds = preds[:, -1, :,:]\n",
    "    last_y_labels = labels[:, -1, :,:]\n",
    "    loss = tf.keras.losses.categorical_crossentropy(last_y_labels, last_y_preds, from_logits=True)\n",
    "    loss = tf.reduce_mean(loss)\n",
    "    \n",
    "    return loss"
   ]
  },
  {
   "cell_type": "code",
   "execution_count": 11,
   "metadata": {},
   "outputs": [],
   "source": [
    "def train_MANN(NUM_CLASSES = 5, NUM_SAMPLES = 1, META_BATCH_SIZE = 16, ITERATIONS = 50000, LSTM_SIZE = 128):\n",
    "    \"\"\"\n",
    "    NUM_CLASSES        'number of classes used in classification (e.g. 5-way classification)\n",
    "    NUM_SAMPLES        'number of examples used for inner gradient update (K for K-shot learning).'\n",
    "    META_BATCH_SIZE    'number of N-way classification tasks per batch'\n",
    "    \"\"\"\n",
    "    \n",
    "    logs = []\n",
    "\n",
    "    ims = tf.placeholder(tf.float32, shape=( None, NUM_SAMPLES + 1, NUM_CLASSES, 784))\n",
    "    labels = tf.placeholder(tf.float32, shape=( None, NUM_SAMPLES + 1, NUM_CLASSES, NUM_CLASSES))\n",
    "\n",
    "    data_generator = DataGenerator(NUM_CLASSES, NUM_SAMPLES + 1)\n",
    "    \n",
    "    o = MANN(NUM_CLASSES, NUM_SAMPLES + 1, LSTM_SIZE)\n",
    "    out = o(ims, labels)\n",
    "\n",
    "    loss = loss_function(out, labels)\n",
    "    optim = tf.train.AdamOptimizer(0.001)\n",
    "    optimizer_step = optim.minimize(loss)\n",
    "    \n",
    "    with tf.Session() as sess:\n",
    "        sess.run(tf.local_variables_initializer())\n",
    "        sess.run(tf.global_variables_initializer())\n",
    "\n",
    "        for step in range(ITERATIONS):\n",
    "            images_batch, labels_batch = data_generator.sample_batch('train', META_BATCH_SIZE)\n",
    "            feed = {ims: images_batch.astype(np.float32), labels: labels_batch.astype(np.float32)}\n",
    "            _, train_loss = sess.run([optimizer_step, loss], feed)\n",
    "            if step % 5000 == 0:\n",
    "                print(\"*\" * 5 + \"Iteration no. {}\".format(step) + \"*\" * 5)\n",
    "\n",
    "                images_batch_test, labels_batch_test = data_generator.sample_batch('test', 200)\n",
    "\n",
    "                feed = {ims: images_batch_test.astype(np.float32), labels: labels_batch_test.astype(np.float32)}\n",
    "                pred, test_loss = sess.run([out, loss], feed)\n",
    "\n",
    "                print(\"Train Loss: {} Test Loss: {}\".format(train_loss, test_loss))\n",
    "                pred = pred[:, -1, :, :].argmax(2)\n",
    "                l = labels_batch_test[:, -1, :, :].argmax(2)\n",
    "                acc = (1.0 * (pred == l)).mean()\n",
    "                print(\"Test Accuracy\", acc)\n",
    "\n",
    "                logs.append((step, train_loss, test_loss, acc))\n",
    "\n",
    "    plot_results(logs, NUM_CLASSES, NUM_SAMPLES)"
   ]
  },
  {
   "cell_type": "code",
   "execution_count": null,
   "metadata": {
    "scrolled": true
   },
   "outputs": [
    {
     "name": "stdout",
     "output_type": "stream",
     "text": [
      "WARNING:tensorflow:From /Users/damian/Code/stanford_ml_mt/sample_env/lib/python3.6/site-packages/tensorflow/python/ops/resource_variable_ops.py:1666: calling BaseResourceVariable.__init__ (from tensorflow.python.ops.resource_variable_ops) with constraint is deprecated and will be removed in a future version.\n",
      "Instructions for updating:\n",
      "If using Keras pass *_constraint arguments to layers.\n"
     ]
    },
    {
     "name": "stderr",
     "output_type": "stream",
     "text": [
      "/Users/damian/Code/stanford_ml_mt/sample_env/lib/python3.6/site-packages/ipykernel_launcher.py:10: DeprecationWarning: `imread` is deprecated!\n",
      "`imread` is deprecated in SciPy 1.0.0, and will be removed in 1.2.0.\n",
      "Use ``imageio.imread`` instead.\n",
      "  # Remove the CWD from sys.path while we load stuff.\n"
     ]
    },
    {
     "name": "stdout",
     "output_type": "stream",
     "text": [
      "*****Iteration no. 0*****\n",
      "Train Loss: 1.1023725271224976 Test Loss: 1.106208086013794\n",
      "Test Accuracy 0.3283333333333333\n",
      "*****Iteration no. 5000*****\n",
      "Train Loss: 1.0986278057098389 Test Loss: 1.0986096858978271\n",
      "Test Accuracy 0.33166666666666667\n"
     ]
    }
   ],
   "source": [
    "# fix K vary N\n",
    "NUM_SAMPLES = 1\n",
    "NUM_CLASSES = 3\n",
    "train_MANN(NUM_CLASSES, NUM_SAMPLES)"
   ]
  },
  {
   "cell_type": "code",
   "execution_count": null,
   "metadata": {},
   "outputs": [],
   "source": []
  }
 ],
 "metadata": {
  "kernelspec": {
   "display_name": "sample_env",
   "language": "python",
   "name": "sample_env"
  },
  "language_info": {
   "codemirror_mode": {
    "name": "ipython",
    "version": 3
   },
   "file_extension": ".py",
   "mimetype": "text/x-python",
   "name": "python",
   "nbconvert_exporter": "python",
   "pygments_lexer": "ipython3",
   "version": "3.6.9"
  }
 },
 "nbformat": 4,
 "nbformat_minor": 4
}
